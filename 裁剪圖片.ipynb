{
  "nbformat": 4,
  "nbformat_minor": 0,
  "metadata": {
    "colab": {
      "provenance": [],
      "collapsed_sections": [
        "-30UTmZlzm5B",
        "-bz1NARG2D6C",
        "TmmQcwQVUlhR",
        "KporvSiXUvh3",
        "spxl7gk2U7Yr"
      ],
      "include_colab_link": true
    },
    "kernelspec": {
      "name": "python3",
      "display_name": "Python 3"
    },
    "language_info": {
      "name": "python"
    }
  },
  "cells": [
    {
      "cell_type": "markdown",
      "metadata": {
        "id": "view-in-github",
        "colab_type": "text"
      },
      "source": [
        "<a href=\"https://colab.research.google.com/github/j7tfj7f8k1f/Automatic-testing-tools/blob/main/%E8%A3%81%E5%89%AA%E5%9C%96%E7%89%87.ipynb\" target=\"_parent\"><img src=\"https://colab.research.google.com/assets/colab-badge.svg\" alt=\"Open In Colab\"/></a>"
      ]
    },
    {
      "cell_type": "markdown",
      "source": [
        "# 前置"
      ],
      "metadata": {
        "id": "-30UTmZlzm5B"
      }
    },
    {
      "cell_type": "code",
      "execution_count": null,
      "metadata": {
        "id": "6Djd8ND4zdVm",
        "colab": {
          "base_uri": "https://localhost:8080/"
        },
        "outputId": "81aa5144-f6f2-463f-e4b1-9b235c85e23b"
      },
      "outputs": [
        {
          "output_type": "stream",
          "name": "stdout",
          "text": [
            "Requirement already satisfied: Pillow in /usr/local/lib/python3.11/dist-packages (11.1.0)\n"
          ]
        }
      ],
      "source": [
        "!pip install Pillow"
      ]
    },
    {
      "cell_type": "code",
      "source": [
        "import os\n",
        "\n",
        "os.makedirs('/content/8', exist_ok=True)\n",
        "os.makedirs('/content/9', exist_ok=True)"
      ],
      "metadata": {
        "id": "_EILobnTVVjT"
      },
      "execution_count": null,
      "outputs": []
    },
    {
      "cell_type": "code",
      "source": [
        "import os\n",
        "os.chdir('/content')"
      ],
      "metadata": {
        "id": "Br1QF2W3zmQU"
      },
      "execution_count": null,
      "outputs": []
    },
    {
      "cell_type": "markdown",
      "source": [
        "# 512*512"
      ],
      "metadata": {
        "id": "-bz1NARG2D6C"
      }
    },
    {
      "cell_type": "code",
      "source": [
        "from PIL import Image\n",
        "import os\n",
        "\n",
        "# 設定要轉換的圖像大小\n",
        "new_size = (512, 512)\n",
        "\n",
        "# 設定要轉換的資料夾路徑\n",
        "folder_path = '/content/8'\n",
        "\n",
        "\n",
        "output_path = \"/content/9\"\n",
        "\n",
        "# 讀取資料夾內所有圖像檔案\n",
        "for filename in os.listdir(folder_path):\n",
        "    # 如果不是圖像檔案，則跳過\n",
        "    if not filename.endswith('.jpg') and not filename.endswith('.png'):\n",
        "        continue\n",
        "\n",
        "    # 設定圖片路徑\n",
        "    image_path = os.path.join(folder_path, filename)\n",
        "\n",
        "    # 讀取圖片\n",
        "    im = Image.open(image_path)\n",
        "\n",
        "    # 計算圖片的長寬\n",
        "    width, height = im.size\n",
        "\n",
        "    # 計算縮放比例\n",
        "    scale = min(512 / width, 512 / height)\n",
        "\n",
        "    # 計算縮放後的圖片尺寸\n",
        "    new_width = int(width * scale)\n",
        "    new_height = int(height * scale)\n",
        "\n",
        "    # 縮放圖片\n",
        "    im_resized = im.resize((new_width, new_height), Image.BICUBIC)\n",
        "\n",
        "    # 建立一個 512x512 的白色圖片\n",
        "    im_white = Image.new('RGBA', (512, 512), (255, 255, 255, 255))\n",
        "\n",
        "    # 將縮放後的圖片貼到白色圖片的中心\n",
        "    im_white.paste(im_resized, (int((512 - new_width) / 2), int((512 - new_height) / 2)))\n",
        "\n",
        "    # 保存圖片\n",
        "    im_white.save(os.path.join(output_path, filename), 'PNG', quality=100, optimize=True)\n"
      ],
      "metadata": {
        "id": "DUIf_0jg2DOy"
      },
      "execution_count": null,
      "outputs": []
    },
    {
      "cell_type": "markdown",
      "source": [
        "# 640*640"
      ],
      "metadata": {
        "id": "TmmQcwQVUlhR"
      }
    },
    {
      "cell_type": "code",
      "source": [
        "from PIL import Image\n",
        "import os\n",
        "\n",
        "# 設定要轉換的圖像大小\n",
        "new_size = (640, 640)\n",
        "\n",
        "# 設定要轉換的資料夾路徑\n",
        "folder_path = '/content/8'\n",
        "\n",
        "\n",
        "output_path = \"/content/9\"\n",
        "\n",
        "# 讀取資料夾內所有圖像檔案\n",
        "for filename in os.listdir(folder_path):\n",
        "    # 如果不是圖像檔案，則跳過\n",
        "    if not filename.endswith('.jpg') and not filename.endswith('.png'):\n",
        "        continue\n",
        "\n",
        "    # 設定圖片路徑\n",
        "    image_path = os.path.join(folder_path, filename)\n",
        "\n",
        "    # 讀取圖片\n",
        "    im = Image.open(image_path)\n",
        "\n",
        "    # 計算圖片的長寬\n",
        "    width, height = im.size\n",
        "\n",
        "    # 計算縮放比例\n",
        "    scale = min(640 / width, 640 / height)\n",
        "\n",
        "    # 計算縮放後的圖片尺寸\n",
        "    new_width = int(width * scale)\n",
        "    new_height = int(height * scale)\n",
        "\n",
        "    # 縮放圖片\n",
        "    im_resized = im.resize((new_width, new_height), Image.BICUBIC)\n",
        "\n",
        "    # 建立一個  的白色圖片\n",
        "    im_white = Image.new('RGBA', (640, 640), (255, 255, 255, 255))\n",
        "\n",
        "    # 將縮放後的圖片貼到白色圖片的中心\n",
        "    im_white.paste(im_resized, (int((640 - new_width) / 2), int((640 - new_height) / 2)))\n",
        "\n",
        "    # 保存圖片\n",
        "    im_white.save(os.path.join(output_path, filename), 'PNG', quality=100, optimize=True)\n"
      ],
      "metadata": {
        "id": "Neb8oLZPUl4q"
      },
      "execution_count": null,
      "outputs": []
    },
    {
      "cell_type": "markdown",
      "source": [
        "# 720*720"
      ],
      "metadata": {
        "id": "KporvSiXUvh3"
      }
    },
    {
      "cell_type": "code",
      "source": [
        "from PIL import Image\n",
        "import os\n",
        "\n",
        "# 設定要轉換的圖像大小\n",
        "new_size = (720, 720)\n",
        "\n",
        "# 設定要轉換的資料夾路徑\n",
        "folder_path = '/content/8'\n",
        "\n",
        "\n",
        "output_path = \"/content/9\"\n",
        "\n",
        "# 讀取資料夾內所有圖像檔案\n",
        "for filename in os.listdir(folder_path):\n",
        "    # 如果不是圖像檔案，則跳過\n",
        "    if not filename.endswith('.jpg') and not filename.endswith('.png'):\n",
        "        continue\n",
        "\n",
        "    # 設定圖片路徑\n",
        "    image_path = os.path.join(folder_path, filename)\n",
        "\n",
        "    # 讀取圖片\n",
        "    im = Image.open(image_path)\n",
        "\n",
        "    # 計算圖片的長寬\n",
        "    width, height = im.size\n",
        "\n",
        "    # 計算縮放比例\n",
        "    scale = min(720 / width, 720 / height)\n",
        "\n",
        "    # 計算縮放後的圖片尺寸\n",
        "    new_width = int(width * scale)\n",
        "    new_height = int(height * scale)\n",
        "\n",
        "    # 縮放圖片\n",
        "    im_resized = im.resize((new_width, new_height), Image.BICUBIC)\n",
        "\n",
        "    # 建立一個的白色圖片\n",
        "    im_white = Image.new('RGBA', (720, 720), (255, 255, 255, 255))\n",
        "\n",
        "    # 將縮放後的圖片貼到白色圖片的中心\n",
        "    im_white.paste(im_resized, (int((720 - new_width) / 2), int((720 - new_height) / 2)))\n",
        "\n",
        "    # 保存圖片\n",
        "    im_white.save(os.path.join(output_path, filename), 'PNG', quality=100, optimize=True)\n"
      ],
      "metadata": {
        "id": "PbLqyBh_PMjt"
      },
      "execution_count": null,
      "outputs": []
    },
    {
      "cell_type": "markdown",
      "source": [
        "# 完成並壓縮"
      ],
      "metadata": {
        "id": "spxl7gk2U7Yr"
      }
    },
    {
      "cell_type": "code",
      "source": [
        "!zip -r 9.zip 9"
      ],
      "metadata": {
        "id": "CNSn5yjsQAWO",
        "outputId": "6876b353-4b1c-495b-e261-4e2fb9ac45e1",
        "colab": {
          "base_uri": "https://localhost:8080/"
        }
      },
      "execution_count": null,
      "outputs": [
        {
          "output_type": "stream",
          "name": "stdout",
          "text": [
            "  adding: 9/ (stored 0%)\n",
            "  adding: 9/cure_ace(20).jpg (deflated 0%)\n",
            "  adding: 9/cure_ace(21).png (deflated 0%)\n",
            "  adding: 9/cure_ace(24).jpg (deflated 0%)\n",
            "  adding: 9/cure_ace(17).png (deflated 1%)\n",
            "  adding: 9/cure_ace(26).jpg (deflated 0%)\n",
            "  adding: 9/cure_ace(18).jpg (deflated 0%)\n",
            "  adding: 9/cure_ace(17).jpg (deflated 0%)\n",
            "  adding: 9/cure_ace(23).jpg (deflated 0%)\n",
            "  adding: 9/cure_ace(25).jpg (deflated 0%)\n",
            "  adding: 9/cure_ace(19).jpg (deflated 0%)\n",
            "  adding: 9/cure_ace(22).jpg (deflated 0%)\n",
            "  adding: 9/cure_ace(21).jpg (deflated 0%)\n"
          ]
        }
      ]
    }
  ]
}